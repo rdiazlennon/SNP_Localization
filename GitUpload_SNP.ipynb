{
 "cells": [
  {
   "cell_type": "code",
   "execution_count": null,
   "id": "03935966",
   "metadata": {},
   "outputs": [],
   "source": [
    "#import data txt files\n",
    "f = open('#input file name')\n",
    "Wildtype = f.read()\n",
    "f = open('#input file name')\n",
    "Mutant = f.read()\n"
   ]
  },
  {
   "cell_type": "code",
   "execution_count": null,
   "id": "01a10a81",
   "metadata": {},
   "outputs": [],
   "source": [
    "len(Mutant) #show length "
   ]
  },
  {
   "cell_type": "code",
   "execution_count": null,
   "id": "0fc02bc4",
   "metadata": {},
   "outputs": [],
   "source": [
    "##DEFINE SEQUENCE TO COMPARE TWO DNA SEQUENCES\n",
    "##FUNCTION COULD BE IMPLEMENTED WITH REAL DNA SEQUENCES\n",
    "\n",
    "##INPUT = SEQUENCE OF DNA DATA\n",
    "##OUTPUT = SNP NUCLEOTIDE LOCATION\n",
    "\n",
    "def sequence_comp(Wildtype, Mutant):\n",
    "    len1 = len(Wildtype)\n",
    "    len2 = len(Mutant)\n",
    "    trueorfalse = []\n",
    "    onlymismatch = []\n",
    "    for p in range(0, min(len1,len2)):\n",
    "        if Wildtype[p] != Mutant[p]:\n",
    "            add = \"FALSE\", p \n",
    "            trueorfalse.append(add)\n",
    "            onlymismatch.append(add)\n",
    "        else:\n",
    "            trueorfalse.append(\"T\")\n",
    "    print(\"The SNP location is:\", onlymismatch)\n",
    "    print(trueorfalse)\n",
    "    \n",
    "\n",
    "sequence_comp(Wildtype,Mutant)"
   ]
  }
 ],
 "metadata": {
  "kernelspec": {
   "display_name": "Python 3 (ipykernel)",
   "language": "python",
   "name": "python3"
  },
  "language_info": {
   "codemirror_mode": {
    "name": "ipython",
    "version": 3
   },
   "file_extension": ".py",
   "mimetype": "text/x-python",
   "name": "python",
   "nbconvert_exporter": "python",
   "pygments_lexer": "ipython3",
   "version": "3.9.12"
  }
 },
 "nbformat": 4,
 "nbformat_minor": 5
}
